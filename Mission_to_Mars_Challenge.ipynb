{
 "metadata": {
  "language_info": {
   "codemirror_mode": {
    "name": "ipython",
    "version": 3
   },
   "file_extension": ".py",
   "mimetype": "text/x-python",
   "name": "python",
   "nbconvert_exporter": "python",
   "pygments_lexer": "ipython3",
   "version": "3.7.9-final"
  },
  "orig_nbformat": 2,
  "kernelspec": {
   "name": "pythondata",
   "display_name": "PythonData",
   "language": "python"
  }
 },
 "nbformat": 4,
 "nbformat_minor": 2,
 "cells": [
  {
   "cell_type": "code",
   "execution_count": 1,
   "metadata": {},
   "outputs": [],
   "source": [
    "#imports Splinter and BeautifulSoup\n",
    "from splinter import Browser\n",
    "from bs4 import BeautifulSoup as soup\n",
    "\n",
    "#imports ChromeDriver\n",
    "from webdriver_manager.chrome import ChromeDriverManager\n",
    "\n",
    "#imports pandas\n",
    "import pandas as pd"
   ]
  },
  {
   "cell_type": "code",
   "execution_count": 2,
   "metadata": {},
   "outputs": [
    {
     "output_type": "stream",
     "name": "stderr",
     "text": [
      "[WDM] - ====== WebDriver manager ======\n",
      "[WDM] - Current google-chrome version is 89.0.4389\n",
      "[WDM] - Get LATEST driver version for 89.0.4389\n",
      "[WDM] - Driver [C:\\Users\\Owner\\.wdm\\drivers\\chromedriver\\win32\\89.0.4389.23\\chromedriver.exe] found in cache\n",
      "\n",
      "\n"
     ]
    }
   ],
   "source": [
    "#sets the executable path and initializes the chrome browser in splinter\n",
    "executable_path = {'executable_path': ChromeDriverManager().install()}\n",
    "\n",
    "browser = Browser('chrome', **executable_path, headless = False)"
   ]
  },
  {
   "source": [
    "### TITLE AND BODY"
   ],
   "cell_type": "markdown",
   "metadata": {}
  },
  {
   "cell_type": "code",
   "execution_count": 3,
   "metadata": {},
   "outputs": [
    {
     "output_type": "execute_result",
     "data": {
      "text/plain": [
       "True"
      ]
     },
     "metadata": {},
     "execution_count": 3
    }
   ],
   "source": [
    "#visits the mars nasa website\n",
    "url = 'http://mars.nasa.gov/news/'\n",
    "browser.visit(url)\n",
    "\n",
    "#optional delay for loading the page\n",
    "#searching for elements with specific combinations, ul tag w/ item_list attributes and li tag with slide attribute\n",
    "browser.is_element_present_by_css('ul.item_list li.slide', wait_time = 1)"
   ]
  },
  {
   "cell_type": "code",
   "execution_count": 4,
   "metadata": {},
   "outputs": [],
   "source": [
    "#gets the html content of the page\n",
    "html = browser.html\n",
    "\n",
    "#parses html page\n",
    "news_soup = soup(html, 'html.parser')\n",
    "\n",
    "#creates the first search\n",
    "#grabs the first item that matches both arguments\n",
    "slide_elem = news_soup.select_one('ul.item_list li.slide')"
   ]
  },
  {
   "cell_type": "code",
   "execution_count": 5,
   "metadata": {},
   "outputs": [
    {
     "output_type": "execute_result",
     "data": {
      "text/plain": [
       "\"NASA's Perseverance Drives on Mars' Terrain for First Time\""
      ]
     },
     "metadata": {},
     "execution_count": 5
    }
   ],
   "source": [
    "#extracts only the text title\n",
    "news_title = slide_elem.find('div', class_= 'content_title').get_text()\n",
    "news_title"
   ]
  },
  {
   "cell_type": "code",
   "execution_count": 6,
   "metadata": {},
   "outputs": [
    {
     "output_type": "execute_result",
     "data": {
      "text/plain": [
       "'The first trek of the agency’s largest, most advanced rover yet on the Red Planet marks a major milestone before science operations get under way.'"
      ]
     },
     "metadata": {},
     "execution_count": 6
    }
   ],
   "source": [
    "#extracts only the article body summary\n",
    "news_p = slide_elem.find('div', class_= 'article_teaser_body').get_text()\n",
    "news_p"
   ]
  },
  {
   "source": [
    "### FEATURED IMAGES"
   ],
   "cell_type": "markdown",
   "metadata": {}
  },
  {
   "cell_type": "code",
   "execution_count": 7,
   "metadata": {},
   "outputs": [],
   "source": [
    "#visits the website\n",
    "url = 'https://data-class-jpl-space.s3.amazonaws.com/JPL_Space/index.html'\n",
    "browser.visit(url)"
   ]
  },
  {
   "cell_type": "code",
   "execution_count": 8,
   "metadata": {},
   "outputs": [],
   "source": [
    "#find and click full image button\n",
    "full_image_elem= browser.find_by_tag('button')[1]\n",
    "full_image_elem.click()"
   ]
  },
  {
   "cell_type": "code",
   "execution_count": 9,
   "metadata": {},
   "outputs": [],
   "source": [
    "#parses the resulting html with soup\n",
    "html = browser.html\n",
    "\n",
    "img_soup = soup(html, 'html.parser')"
   ]
  },
  {
   "cell_type": "code",
   "execution_count": 10,
   "metadata": {},
   "outputs": [
    {
     "output_type": "execute_result",
     "data": {
      "text/plain": [
       "'https://data-class-jpl-space.s3.amazonaws.com/JPL_Space/image/featured/mars1.jpg'"
      ]
     },
     "metadata": {},
     "execution_count": 10
    }
   ],
   "source": [
    "#extracting image\n",
    "image_url_rel = img_soup.find('img', class_ = 'fancybox-image').get('src')\n",
    "image_url_rel #only partial url\n",
    "\n",
    "#gets base url to create absolute url \n",
    "img_url = f'https://data-class-jpl-space.s3.amazonaws.com/JPL_Space/{image_url_rel}'\n",
    "img_url"
   ]
  },
  {
   "source": [
    "### FACTS"
   ],
   "cell_type": "markdown",
   "metadata": {}
  },
  {
   "cell_type": "code",
   "execution_count": 11,
   "metadata": {},
   "outputs": [
    {
     "output_type": "execute_result",
     "data": {
      "text/plain": [
       "'<table border=\"1\" class=\"dataframe\">\\n  <thead>\\n    <tr style=\"text-align: right;\">\\n      <th></th>\\n      <th>value</th>\\n    </tr>\\n    <tr>\\n      <th>description</th>\\n      <th></th>\\n    </tr>\\n  </thead>\\n  <tbody>\\n    <tr>\\n      <th>Equatorial Diameter:</th>\\n      <td>6,792 km</td>\\n    </tr>\\n    <tr>\\n      <th>Polar Diameter:</th>\\n      <td>6,752 km</td>\\n    </tr>\\n    <tr>\\n      <th>Mass:</th>\\n      <td>6.39 × 10^23 kg (0.11 Earths)</td>\\n    </tr>\\n    <tr>\\n      <th>Moons:</th>\\n      <td>2 (Phobos &amp; Deimos)</td>\\n    </tr>\\n    <tr>\\n      <th>Orbit Distance:</th>\\n      <td>227,943,824 km (1.38 AU)</td>\\n    </tr>\\n    <tr>\\n      <th>Orbit Period:</th>\\n      <td>687 days (1.9 years)</td>\\n    </tr>\\n    <tr>\\n      <th>Surface Temperature:</th>\\n      <td>-87 to -5 °C</td>\\n    </tr>\\n    <tr>\\n      <th>First Record:</th>\\n      <td>2nd millennium BC</td>\\n    </tr>\\n    <tr>\\n      <th>Recorded By:</th>\\n      <td>Egyptian astronomers</td>\\n    </tr>\\n  </tbody>\\n</table>'"
      ]
     },
     "metadata": {},
     "execution_count": 11
    }
   ],
   "source": [
    "#extracting the html table and convert it into a pandas dataframe\n",
    "df = pd.read_html('http://space-facts.com/mars/')[0]\n",
    "df.columns = ['description', 'value']\n",
    "df.set_index('description', inplace = True)\n",
    "\n",
    "df.to_html()\n",
    "#likewise the dataframe can also be converted back into html for uploading into a new web page"
   ]
  },
  {
   "source": [
    "###"
   ],
   "cell_type": "markdown",
   "metadata": {}
  },
  {
   "source": [
    "### HIGH RESOLUTION MARS HEMISPHERE IMAGES AND TITLES"
   ],
   "cell_type": "markdown",
   "metadata": {}
  },
  {
   "cell_type": "code",
   "execution_count": 12,
   "metadata": {},
   "outputs": [],
   "source": [
    "#visits the browser 1.\n",
    "main_url = 'https://astrogeology.usgs.gov/search/results?q=hemisphere+enhanced&k1=target&v1=Mars'\n",
    "main_enhanced = 'https://astrogeology.usgs.gov'\n",
    "\n",
    "browser.visit(main_url)"
   ]
  },
  {
   "cell_type": "code",
   "execution_count": 13,
   "metadata": {},
   "outputs": [],
   "source": [
    "#creates a list to hold the image url (string) and titles 2.\n",
    "hemisphere_image_urls = []\n",
    "hemisphere_titles = []\n",
    "\n",
    "html = browser.html\n",
    "hemisphere_soup = soup(html, 'html.parser')\n",
    "main_elem = hemisphere_soup.find_all('div', class_='item')\n",
    "\n",
    "\n",
    "#retrieves the image urls and titles for each hemisphere 3.\n",
    "for title_img in main_elem:\n",
    "    #gets the title from first page\n",
    "    hemisphere_titles =title_img.find('h3').get_text()\n",
    "\n",
    "    #builds the url for the second webpage to find full image url\n",
    "    part_enhanced = title_img.find('a')['href']\n",
    "    enhanced = main_enhanced + part_enhanced\n",
    "\n",
    "    #parses the enhanced webpage to get the URL\n",
    "    browser.visit(enhanced)\n",
    "    html2 = browser.html\n",
    "    enhanced_soup = soup(html2, 'html.parser')\n",
    "\n",
    "    downloads_elem = enhanced_soup.find('div', class_ = 'downloads')\n",
    "    image_urls = downloads_elem.find('a')['href']\n",
    "\n",
    "    #dictionary to hold title and images\n",
    "    hemisphere = dict({'Images': image_urls, 'Titles': hemisphere_titles})\n",
    "    hemisphere_image_urls.append(hemisphere)"
   ]
  },
  {
   "cell_type": "code",
   "execution_count": 14,
   "metadata": {},
   "outputs": [
    {
     "output_type": "execute_result",
     "data": {
      "text/plain": [
       "[{'Images': 'https://astropedia.astrogeology.usgs.gov/download/Mars/Viking/cerberus_enhanced.tif/full.jpg',\n",
       "  'Titles': 'Cerberus Hemisphere Enhanced'},\n",
       " {'Images': 'https://astropedia.astrogeology.usgs.gov/download/Mars/Viking/schiaparelli_enhanced.tif/full.jpg',\n",
       "  'Titles': 'Schiaparelli Hemisphere Enhanced'},\n",
       " {'Images': 'https://astropedia.astrogeology.usgs.gov/download/Mars/Viking/syrtis_major_enhanced.tif/full.jpg',\n",
       "  'Titles': 'Syrtis Major Hemisphere Enhanced'},\n",
       " {'Images': 'https://astropedia.astrogeology.usgs.gov/download/Mars/Viking/valles_marineris_enhanced.tif/full.jpg',\n",
       "  'Titles': 'Valles Marineris Hemisphere Enhanced'}]"
      ]
     },
     "metadata": {},
     "execution_count": 14
    }
   ],
   "source": [
    "#prints the list holding image url(string) and titles 4.\n",
    "hemisphere_image_urls\n"
   ]
  },
  {
   "cell_type": "code",
   "execution_count": 15,
   "metadata": {},
   "outputs": [],
   "source": [
    "#quits session 5.\n",
    "browser.quit()"
   ]
  },
  {
   "cell_type": "code",
   "execution_count": null,
   "metadata": {},
   "outputs": [],
   "source": []
  }
 ]
}